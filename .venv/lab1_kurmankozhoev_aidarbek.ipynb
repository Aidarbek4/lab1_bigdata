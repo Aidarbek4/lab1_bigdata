{
 "cells": [
  {
   "metadata": {},
   "cell_type": "markdown",
   "source": [
    "# Задание\n",
    "#### 1. Установите Python и Jupyter Notebook \n",
    "#### 2. Создайте блокнот с именем Lab1_SName.ipynb  (где SName – ваша фамилия)\n",
    "#### 3. Выполните все примеры, описанные в ходе работы, необходимо использовать свои данные для примеров.\n",
    "#### 4. Напишите функцию, которая производит вычисление по формуле:\n",
    "\\begin{equation*}\n",
    "f = (9πt+10cos(x)/√t - sin(x))e^-2t\n",
    "\\end{equation*}"
   ],
   "id": "36b9054b39429cbb"
  },
  {
   "metadata": {
    "ExecuteTime": {
     "end_time": "2024-09-08T08:00:14.120231Z",
     "start_time": "2024-09-08T08:00:14.110953Z"
    }
   },
   "cell_type": "code",
   "source": [
    "import math\n",
    "def func(x, t):\n",
    "    f = (9*math.pi*t + 10*math.cos(x))/(math.sqrt(t) - math.sin(x)) * math.pow(math.e, -2*t)\n",
    "    return f\n",
    "\n",
    "print(func(1, 1))"
   ],
   "id": "4888cb71e77b82f7",
   "outputs": [
    {
     "name": "stdout",
     "output_type": "stream",
     "text": [
      "28.750160560489935\n"
     ]
    }
   ],
   "execution_count": 18
  },
  {
   "metadata": {},
   "cell_type": "raw",
   "source": "",
   "id": "d231c3bfd1426bd1"
  },
  {
   "metadata": {},
   "cell_type": "markdown",
   "source": "#### 5.\tНапишите функцию, которая из трех чисел находит все принадлежащие интервалу от a до b (границы интервала задать произвольно)",
   "id": "2ce0c1ee951c63f3"
  },
  {
   "metadata": {
    "ExecuteTime": {
     "end_time": "2024-09-08T08:41:01.889531Z",
     "start_time": "2024-09-08T08:41:01.884199Z"
    }
   },
   "cell_type": "code",
   "source": [
    "def in_range(a, b, x, y, z):\n",
    "    counter = 0\n",
    "    for i in range(a, b):\n",
    "        if i == x:\n",
    "            print('%i in range [%i, %i]' % (x, a, b))\n",
    "            counter += 1\n",
    "        if i == y:\n",
    "            print('%i in range [%i, %i]' % (y, a, b))\n",
    "            counter += 1\n",
    "        if i == z:\n",
    "            print('%i in range [%i, %i]' % (z, a, b))\n",
    "            counter += 1\n",
    "    return \"%i/3 in range [%i, %i]\" % (counter, a, b);\n",
    "            \n",
    "print(in_range(0, 10, 3, 12, 7))"
   ],
   "id": "111911c15b86aa0d",
   "outputs": [
    {
     "name": "stdout",
     "output_type": "stream",
     "text": [
      "3 in range [0, 10]\n",
      "7 in range [0, 10]\n",
      "2/3 in range [0, 10]\n"
     ]
    }
   ],
   "execution_count": 29
  },
  {
   "metadata": {},
   "cell_type": "raw",
   "source": "",
   "id": "b2cc3b258e42b096"
  },
  {
   "metadata": {},
   "cell_type": "markdown",
   "source": "#### 6.\tСоздайте генератор 20-ти случайных чисел в диапазоне от 0 до 10",
   "id": "3e7f915b61e65689"
  },
  {
   "metadata": {
    "ExecuteTime": {
     "end_time": "2024-09-08T08:46:38.754534Z",
     "start_time": "2024-09-08T08:46:38.749114Z"
    }
   },
   "cell_type": "code",
   "source": [
    "import random\n",
    "for i in range(20):\n",
    "    print(round(random.random() * 10, 2))"
   ],
   "id": "a1dddec4bfb621c2",
   "outputs": [
    {
     "name": "stdout",
     "output_type": "stream",
     "text": [
      "1.93\n",
      "7.77\n",
      "7.66\n",
      "0.71\n",
      "7.15\n",
      "0.69\n",
      "7.59\n",
      "1.23\n",
      "6.17\n",
      "8.05\n",
      "5.76\n",
      "6.54\n",
      "0.88\n",
      "2.14\n",
      "6.6\n",
      "7.95\n",
      "0.23\n",
      "2.18\n",
      "7.63\n",
      "0.23\n"
     ]
    }
   ],
   "execution_count": 37
  },
  {
   "metadata": {},
   "cell_type": "raw",
   "source": "",
   "id": "290da093784672b0"
  },
  {
   "metadata": {},
   "cell_type": "markdown",
   "source": "#### 7.\tВычислите сумму 20 элементов последовательности: 1/2+3, 2/3+4, 3/4+5...",
   "id": "9b87b50793c9f331"
  },
  {
   "metadata": {
    "ExecuteTime": {
     "end_time": "2024-09-08T08:52:10.157043Z",
     "start_time": "2024-09-08T08:52:10.152912Z"
    }
   },
   "cell_type": "code",
   "source": [
    "s = 0\n",
    "for i in range(1, 21):\n",
    "    s += i/(i+1 + i+2)\n",
    "    # print(i/(i+1 + i+2))\n",
    "\n",
    "print(s)"
   ],
   "id": "e202ff5345e7c48d",
   "outputs": [
    {
     "name": "stdout",
     "output_type": "stream",
     "text": [
      "8.209021097669307\n"
     ]
    }
   ],
   "execution_count": 41
  },
  {
   "metadata": {},
   "cell_type": "raw",
   "source": "",
   "id": "2047103c7dfd4a07"
  },
  {
   "metadata": {},
   "cell_type": "markdown",
   "source": [
    "#### 8.\tОформите файл Lab1_SName.ipynb  в виде отчета с советующими разделами, комментариями и т.п.\n",
    "#### 9.\tОтветьте письменно на контрольные вопросы:\n",
    "1.\tПочему для работы с большими данными и для машинного обучения выбирают язык Python? Перечислите не менее трех причин.\n",
    "2.\tВ чем особенности среды Jupyter Notebook, почему ее выбирают специалисты по Data Science? \n",
    "3.\tПеречислите основные библиотеки Python для машинного обучения.\n",
    "4.\tКакие типы данных Python вы знаете?\n",
    "5.\tНазовите основные языковые конструкции Python.\n",
    "6.\tКакое назначение у оператора if … else?\n",
    "7.\tКогда заканчивается выполнение оператора while?\n",
    "8.\tКакие способы задания функций есть в Python?\n",
    "9.\tЧто такое Лямбда-функция?\n",
    "10.\tКакая библиотека Python отвечает за выполнение основным математических функций?\n",
    "11.\tНазовите дополнительные возможности использования среды Jupyter Notebook.\n",
    "\n"
   ],
   "id": "5f92fcb171cf9beb"
  },
  {
   "metadata": {},
   "cell_type": "raw",
   "source": [
    "1. Простой синтакис, библиотеки, готовые решения.\n",
    "2. Предоставляет множество возможностей для обработки данных.\n",
    "3. Numpy, Scify, Pandas, Anaconda, Matplotlib и т.д.\n",
    "4. Целые числа, действительные числа, строки, булевые, списки, котеджи, словари.\n",
    "5. Циклы for и while, условный оператор, функции, логические операторы, модули.\n",
    "6. Разветвление сценария при определенном условии.\n",
    "7. Когда условие перестает быть действительным, т.е. правдивым.\n",
    "8. Через ключевое слово def, анонимные функции через ключевое слово lambda, вложкнные функции и рекруссивные.\n",
    "9. Лямбда-функция в Python — это анонимная (безымянная) функция, которая определяется с использованием ключевого слова lambda. Она используется для создания небольших, одноразовых функций, которые могут содержать только одно выражение.\n",
    "10. Math.\n",
    "11. Интерактивность, визуализация данных, документация и презентации, поддержка множества языков программирования(R, Julia, SQL)."
   ],
   "id": "ca39f9517c8f1d00"
  }
 ],
 "metadata": {
  "kernelspec": {
   "display_name": "Python 3",
   "language": "python",
   "name": "python3"
  },
  "language_info": {
   "codemirror_mode": {
    "name": "ipython",
    "version": 2
   },
   "file_extension": ".py",
   "mimetype": "text/x-python",
   "name": "python",
   "nbconvert_exporter": "python",
   "pygments_lexer": "ipython2",
   "version": "2.7.6"
  }
 },
 "nbformat": 4,
 "nbformat_minor": 5
}
